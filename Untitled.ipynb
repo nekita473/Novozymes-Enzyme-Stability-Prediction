{
 "cells": [
  {
   "cell_type": "code",
   "execution_count": 1,
   "id": "3d3a3dbb",
   "metadata": {},
   "outputs": [],
   "source": [
    "import pandas as pd\n",
    "import numpy as np\n",
    "from tqdm.notebook import tqdm\n",
    "from sklearn.model_selection import train_test_split"
   ]
  },
  {
   "cell_type": "code",
   "execution_count": 174,
   "id": "4db41eed",
   "metadata": {},
   "outputs": [],
   "source": [
    "data = pd.read_csv('train.csv')"
   ]
  },
  {
   "cell_type": "markdown",
   "id": "54750092",
   "metadata": {},
   "source": [
    "### TODO\n",
    "1. Remove pH > 11\n",
    "2. Mean of duplicates"
   ]
  },
  {
   "cell_type": "code",
   "execution_count": 177,
   "id": "05a60cbc",
   "metadata": {},
   "outputs": [],
   "source": [
    "data['len'] = res"
   ]
  },
  {
   "cell_type": "code",
   "execution_count": 197,
   "id": "161a9359",
   "metadata": {},
   "outputs": [
    {
     "name": "stdout",
     "output_type": "stream",
     "text": [
      "128\n",
      "131\n"
     ]
    }
   ],
   "source": [
    "for i in range(231):\n",
    "    if data.sort_values(by='len').iloc[10001].protein_sequence[i] != data.sort_values(by='len').iloc[10002].protein_sequence[i]:\n",
    "        print(i)"
   ]
  },
  {
   "cell_type": "code",
   "execution_count": 204,
   "id": "5d247833",
   "metadata": {},
   "outputs": [
    {
     "name": "stdout",
     "output_type": "stream",
     "text": [
      "RPAVT\n",
      "50.4\n",
      "TVIHLVG\n",
      "44.4\n",
      "LVVGTALNYINIF\n",
      "58.3\n",
      "SCQGTGKDSHSFSS\n",
      "37.7\n",
      "FGEDIKHLGNSISRAA\n",
      "64.4\n",
      "VPTVSFLGSISAMQFIQ\n",
      "38.7\n",
      "KVPVDDQFRRVNNGGATDT\n",
      "52.6\n",
      "IYEHINEGKLWKHIKHKYENK\n",
      "59.7\n",
      "KFKLCRICFRELAYKGQLPGIKKAS\n",
      "76.3\n"
     ]
    }
   ],
   "source": [
    "for i in range(1, 10):\n",
    "    print(data.sort_values(by='len').iloc[i].protein_sequence)\n",
    "    print(data.sort_values(by='len').iloc[i].tm)"
   ]
  },
  {
   "cell_type": "code",
   "execution_count": null,
   "id": "f1c68e14",
   "metadata": {},
   "outputs": [],
   "source": []
  },
  {
   "cell_type": "code",
   "execution_count": null,
   "id": "f1cdb44a",
   "metadata": {},
   "outputs": [],
   "source": []
  },
  {
   "cell_type": "code",
   "execution_count": 117,
   "id": "e7ee9970",
   "metadata": {},
   "outputs": [],
   "source": [
    "unique, counts = np.unique(data.pH.values, return_counts=True)"
   ]
  },
  {
   "cell_type": "code",
   "execution_count": 118,
   "id": "0637f9b5",
   "metadata": {},
   "outputs": [
    {
     "data": {
      "text/plain": [
       "array([8.])"
      ]
     },
     "execution_count": 118,
     "metadata": {},
     "output_type": "execute_result"
    }
   ],
   "source": [
    "unique"
   ]
  },
  {
   "cell_type": "code",
   "execution_count": 119,
   "id": "179ee7b2",
   "metadata": {},
   "outputs": [
    {
     "data": {
      "text/plain": [
       "array([502], dtype=int64)"
      ]
     },
     "execution_count": 119,
     "metadata": {},
     "output_type": "execute_result"
    }
   ],
   "source": [
    "counts"
   ]
  },
  {
   "cell_type": "code",
   "execution_count": null,
   "id": "99bfef02",
   "metadata": {},
   "outputs": [],
   "source": []
  },
  {
   "cell_type": "code",
   "execution_count": 175,
   "id": "f55649f6",
   "metadata": {},
   "outputs": [],
   "source": [
    "res = []\n",
    "for i in range(len(data)):\n",
    "    res.append(len(data.iloc[i, 1]))"
   ]
  },
  {
   "cell_type": "code",
   "execution_count": 176,
   "id": "077f0c1c",
   "metadata": {},
   "outputs": [
    {
     "data": {
      "text/plain": [
       "[341,\n",
       " 286,\n",
       " 497,\n",
       " 265,\n",
       " 1451,\n",
       " 380,\n",
       " 380,\n",
       " 301,\n",
       " 287,\n",
       " 163,\n",
       " 217,\n",
       " 265,\n",
       " 55,\n",
       " 1643,\n",
       " 81,\n",
       " 228,\n",
       " 114,\n",
       " 380,\n",
       " 904,\n",
       " 284,\n",
       " 203,\n",
       " 645,\n",
       " 213,\n",
       " 192,\n",
       " 341,\n",
       " 501,\n",
       " 400,\n",
       " 206,\n",
       " 313,\n",
       " 109,\n",
       " 329,\n",
       " 354,\n",
       " 324,\n",
       " 278,\n",
       " 506,\n",
       " 150,\n",
       " 448,\n",
       " 155,\n",
       " 477,\n",
       " 352,\n",
       " 449,\n",
       " 448,\n",
       " 345,\n",
       " 346,\n",
       " 330,\n",
       " 455,\n",
       " 448,\n",
       " 286,\n",
       " 446,\n",
       " 530,\n",
       " 169,\n",
       " 88,\n",
       " 210,\n",
       " 352,\n",
       " 499,\n",
       " 461,\n",
       " 1417,\n",
       " 530,\n",
       " 1539,\n",
       " 676,\n",
       " 341,\n",
       " 247,\n",
       " 203,\n",
       " 792,\n",
       " 299,\n",
       " 56,\n",
       " 415,\n",
       " 225,\n",
       " 631,\n",
       " 106,\n",
       " 106,\n",
       " 106,\n",
       " 106,\n",
       " 106,\n",
       " 106,\n",
       " 106,\n",
       " 106,\n",
       " 106,\n",
       " 106,\n",
       " 106,\n",
       " 106,\n",
       " 106,\n",
       " 106,\n",
       " 384,\n",
       " 495,\n",
       " 436,\n",
       " 194,\n",
       " 566,\n",
       " 189,\n",
       " 219,\n",
       " 518,\n",
       " 480,\n",
       " 636,\n",
       " 332,\n",
       " 679,\n",
       " 621,\n",
       " 530,\n",
       " 686,\n",
       " 406,\n",
       " 181,\n",
       " 1515,\n",
       " 194,\n",
       " 308,\n",
       " 306,\n",
       " 516,\n",
       " 514,\n",
       " 348,\n",
       " 291,\n",
       " 168,\n",
       " 867,\n",
       " 761,\n",
       " 255,\n",
       " 389,\n",
       " 301,\n",
       " 402,\n",
       " 469,\n",
       " 322,\n",
       " 247,\n",
       " 1047,\n",
       " 1041,\n",
       " 1019,\n",
       " 1006,\n",
       " 340,\n",
       " 722,\n",
       " 789,\n",
       " 329,\n",
       " 462,\n",
       " 90,\n",
       " 57,\n",
       " 942,\n",
       " 339,\n",
       " 319,\n",
       " 487,\n",
       " 300,\n",
       " 223,\n",
       " 327,\n",
       " 411,\n",
       " 534,\n",
       " 271,\n",
       " 547,\n",
       " 555,\n",
       " 248,\n",
       " 369,\n",
       " 358,\n",
       " 740,\n",
       " 109,\n",
       " 343,\n",
       " 186,\n",
       " 129,\n",
       " 372,\n",
       " 261,\n",
       " 313,\n",
       " 227,\n",
       " 442,\n",
       " 210,\n",
       " 297,\n",
       " 152,\n",
       " 141,\n",
       " 335,\n",
       " 223,\n",
       " 415,\n",
       " 447,\n",
       " 399,\n",
       " 243,\n",
       " 514,\n",
       " 345,\n",
       " 178,\n",
       " 510,\n",
       " 137,\n",
       " 588,\n",
       " 393,\n",
       " 481,\n",
       " 630,\n",
       " 280,\n",
       " 100,\n",
       " 261,\n",
       " 472,\n",
       " 233,\n",
       " 666,\n",
       " 110,\n",
       " 353,\n",
       " 498,\n",
       " 538,\n",
       " 62,\n",
       " 393,\n",
       " 213,\n",
       " 196,\n",
       " 382,\n",
       " 46,\n",
       " 214,\n",
       " 180,\n",
       " 335,\n",
       " 226,\n",
       " 293,\n",
       " 161,\n",
       " 26,\n",
       " 113,\n",
       " 324,\n",
       " 544,\n",
       " 519,\n",
       " 232,\n",
       " 177,\n",
       " 419,\n",
       " 443,\n",
       " 110,\n",
       " 153,\n",
       " 45,\n",
       " 645,\n",
       " 337,\n",
       " 537,\n",
       " 1027,\n",
       " 101,\n",
       " 323,\n",
       " 323,\n",
       " 502,\n",
       " 596,\n",
       " 994,\n",
       " 760,\n",
       " 359,\n",
       " 124,\n",
       " 442,\n",
       " 89,\n",
       " 408,\n",
       " 348,\n",
       " 204,\n",
       " 420,\n",
       " 395,\n",
       " 160,\n",
       " 383,\n",
       " 749,\n",
       " 294,\n",
       " 393,\n",
       " 542,\n",
       " 290,\n",
       " 511,\n",
       " 264,\n",
       " 520,\n",
       " 519,\n",
       " 387,\n",
       " 1339,\n",
       " 282,\n",
       " 262,\n",
       " 134,\n",
       " 538,\n",
       " 536,\n",
       " 1996,\n",
       " 271,\n",
       " 243,\n",
       " 377,\n",
       " 638,\n",
       " 323,\n",
       " 238,\n",
       " 181,\n",
       " 237,\n",
       " 90,\n",
       " 92,\n",
       " 551,\n",
       " 191,\n",
       " 285,\n",
       " 802,\n",
       " 142,\n",
       " 1026,\n",
       " 231,\n",
       " 319,\n",
       " 485,\n",
       " 216,\n",
       " 53,\n",
       " 689,\n",
       " 500,\n",
       " 500,\n",
       " 60,\n",
       " 1816,\n",
       " 257,\n",
       " 318,\n",
       " 164,\n",
       " 213,\n",
       " 371,\n",
       " 638,\n",
       " 368,\n",
       " 56,\n",
       " 270,\n",
       " 209,\n",
       " 256,\n",
       " 414,\n",
       " 529,\n",
       " 468,\n",
       " 741,\n",
       " 44,\n",
       " 586,\n",
       " 249,\n",
       " 308,\n",
       " 497,\n",
       " 343,\n",
       " 376,\n",
       " 657,\n",
       " 687,\n",
       " 367,\n",
       " 267,\n",
       " 296,\n",
       " 432,\n",
       " 562,\n",
       " 206,\n",
       " 250,\n",
       " 236,\n",
       " 527,\n",
       " 396,\n",
       " 405,\n",
       " 403,\n",
       " 324,\n",
       " 1289,\n",
       " 436,\n",
       " 408,\n",
       " 115,\n",
       " 529,\n",
       " 429,\n",
       " 237,\n",
       " 303,\n",
       " 230,\n",
       " 1272,\n",
       " 109,\n",
       " 228,\n",
       " 337,\n",
       " 352,\n",
       " 198,\n",
       " 692,\n",
       " 2193,\n",
       " 157,\n",
       " 159,\n",
       " 72,\n",
       " 405,\n",
       " 239,\n",
       " 451,\n",
       " 552,\n",
       " 281,\n",
       " 315,\n",
       " 131,\n",
       " 586,\n",
       " 259,\n",
       " 246,\n",
       " 250,\n",
       " 52,\n",
       " 1573,\n",
       " 263,\n",
       " 662,\n",
       " 653,\n",
       " 429,\n",
       " 583,\n",
       " 244,\n",
       " 58,\n",
       " 78,\n",
       " 126,\n",
       " 2379,\n",
       " 121,\n",
       " 100,\n",
       " 673,\n",
       " 336,\n",
       " 476,\n",
       " 638,\n",
       " 234,\n",
       " 181,\n",
       " 418,\n",
       " 586,\n",
       " 402,\n",
       " 409,\n",
       " 456,\n",
       " 1394,\n",
       " 555,\n",
       " 154,\n",
       " 601,\n",
       " 339,\n",
       " 170,\n",
       " 126,\n",
       " 517,\n",
       " 544,\n",
       " 366,\n",
       " 684,\n",
       " 537,\n",
       " 325,\n",
       " 90,\n",
       " 370,\n",
       " 432,\n",
       " 164,\n",
       " 468,\n",
       " 525,\n",
       " 280,\n",
       " 253,\n",
       " 163,\n",
       " 286,\n",
       " 281,\n",
       " 367,\n",
       " 555,\n",
       " 79,\n",
       " 1420,\n",
       " 508,\n",
       " 103,\n",
       " 315,\n",
       " 110,\n",
       " 174,\n",
       " 372,\n",
       " 604,\n",
       " 186,\n",
       " 1444,\n",
       " 805,\n",
       " 296,\n",
       " 173,\n",
       " 310,\n",
       " 904,\n",
       " 870,\n",
       " 417,\n",
       " 293,\n",
       " 554,\n",
       " 533,\n",
       " 445,\n",
       " 747,\n",
       " 400,\n",
       " 512,\n",
       " 120,\n",
       " 120,\n",
       " 577,\n",
       " 326,\n",
       " 496,\n",
       " 357,\n",
       " 507,\n",
       " 407,\n",
       " 308,\n",
       " 1375,\n",
       " 39,\n",
       " 39,\n",
       " 332,\n",
       " 405,\n",
       " 412,\n",
       " 412,\n",
       " 243,\n",
       " 623,\n",
       " 244,\n",
       " 490,\n",
       " 382,\n",
       " 138,\n",
       " 2297,\n",
       " 638,\n",
       " 598,\n",
       " 280,\n",
       " 350,\n",
       " 213,\n",
       " 310,\n",
       " 309,\n",
       " 545,\n",
       " 638,\n",
       " 335,\n",
       " 228,\n",
       " 808,\n",
       " 265,\n",
       " 83,\n",
       " 490,\n",
       " 522,\n",
       " 108,\n",
       " 438,\n",
       " 260,\n",
       " 465,\n",
       " 501,\n",
       " 495,\n",
       " 401,\n",
       " 603,\n",
       " 378,\n",
       " 1606,\n",
       " 397,\n",
       " 303,\n",
       " 455,\n",
       " 162,\n",
       " 204,\n",
       " 188,\n",
       " 435,\n",
       " 338,\n",
       " 1067,\n",
       " 295,\n",
       " 685,\n",
       " 504,\n",
       " 1329,\n",
       " 254,\n",
       " 166,\n",
       " 212,\n",
       " 635,\n",
       " 441,\n",
       " 496,\n",
       " 329,\n",
       " 309,\n",
       " 426,\n",
       " 543,\n",
       " 785,\n",
       " 715,\n",
       " 197,\n",
       " 197,\n",
       " 367,\n",
       " 996,\n",
       " 310,\n",
       " 314,\n",
       " 180,\n",
       " 508,\n",
       " 483,\n",
       " 381,\n",
       " 105,\n",
       " 950,\n",
       " 719,\n",
       " 66,\n",
       " 483,\n",
       " 300,\n",
       " 1736,\n",
       " 383,\n",
       " 405,\n",
       " 702,\n",
       " 411,\n",
       " 789,\n",
       " 340,\n",
       " 538,\n",
       " 440,\n",
       " 244,\n",
       " 1187,\n",
       " 286,\n",
       " 507,\n",
       " 781,\n",
       " 84,\n",
       " 413,\n",
       " 266,\n",
       " 690,\n",
       " 271,\n",
       " 297,\n",
       " 376,\n",
       " 1374,\n",
       " 244,\n",
       " 221,\n",
       " 418,\n",
       " 419,\n",
       " 428,\n",
       " 433,\n",
       " 286,\n",
       " 258,\n",
       " 412,\n",
       " 281,\n",
       " 664,\n",
       " 205,\n",
       " 420,\n",
       " 583,\n",
       " 290,\n",
       " 429,\n",
       " 330,\n",
       " 212,\n",
       " 108,\n",
       " 669,\n",
       " 641,\n",
       " 943,\n",
       " 203,\n",
       " 193,\n",
       " 184,\n",
       " 658,\n",
       " 747,\n",
       " 629,\n",
       " 1470,\n",
       " 442,\n",
       " 1087,\n",
       " 339,\n",
       " 1055,\n",
       " 691,\n",
       " 291,\n",
       " 443,\n",
       " 341,\n",
       " 346,\n",
       " 473,\n",
       " 119,\n",
       " 678,\n",
       " 264,\n",
       " 447,\n",
       " 247,\n",
       " 224,\n",
       " 311,\n",
       " 183,\n",
       " 137,\n",
       " 93,\n",
       " 1395,\n",
       " 4525,\n",
       " 4525,\n",
       " 217,\n",
       " 130,\n",
       " 119,\n",
       " 555,\n",
       " 254,\n",
       " 635,\n",
       " 340,\n",
       " 492,\n",
       " 381,\n",
       " 502,\n",
       " 225,\n",
       " 718,\n",
       " 768,\n",
       " 437,\n",
       " 147,\n",
       " 353,\n",
       " 565,\n",
       " 787,\n",
       " 382,\n",
       " 563,\n",
       " 627,\n",
       " 2455,\n",
       " 298,\n",
       " 278,\n",
       " 641,\n",
       " 108,\n",
       " 252,\n",
       " 475,\n",
       " 998,\n",
       " 737,\n",
       " 426,\n",
       " 416,\n",
       " 294,\n",
       " 371,\n",
       " 355,\n",
       " 2645,\n",
       " 202,\n",
       " 713,\n",
       " 442,\n",
       " 174,\n",
       " 193,\n",
       " 278,\n",
       " 318,\n",
       " 401,\n",
       " 162,\n",
       " 241,\n",
       " 176,\n",
       " 120,\n",
       " 57,\n",
       " 467,\n",
       " 268,\n",
       " 137,\n",
       " 364,\n",
       " 197,\n",
       " 141,\n",
       " 651,\n",
       " 842,\n",
       " 681,\n",
       " 114,\n",
       " 369,\n",
       " 490,\n",
       " 350,\n",
       " 630,\n",
       " 192,\n",
       " 464,\n",
       " 412,\n",
       " 385,\n",
       " 431,\n",
       " 187,\n",
       " 315,\n",
       " 68,\n",
       " 186,\n",
       " 168,\n",
       " 463,\n",
       " 1020,\n",
       " 326,\n",
       " 330,\n",
       " 412,\n",
       " 220,\n",
       " 294,\n",
       " 197,\n",
       " 899,\n",
       " 583,\n",
       " 198,\n",
       " 312,\n",
       " 445,\n",
       " 306,\n",
       " 252,\n",
       " 383,\n",
       " 378,\n",
       " 420,\n",
       " 46,\n",
       " 257,\n",
       " 490,\n",
       " 519,\n",
       " 411,\n",
       " 360,\n",
       " 373,\n",
       " 950,\n",
       " 411,\n",
       " 483,\n",
       " 394,\n",
       " 315,\n",
       " 346,\n",
       " 592,\n",
       " 556,\n",
       " 151,\n",
       " 403,\n",
       " 406,\n",
       " 364,\n",
       " 110,\n",
       " 357,\n",
       " 731,\n",
       " 857,\n",
       " 244,\n",
       " 387,\n",
       " 219,\n",
       " 153,\n",
       " 832,\n",
       " 290,\n",
       " 185,\n",
       " 281,\n",
       " 992,\n",
       " 851,\n",
       " 345,\n",
       " 289,\n",
       " 813,\n",
       " 336,\n",
       " 403,\n",
       " 248,\n",
       " 314,\n",
       " 252,\n",
       " 299,\n",
       " 244,\n",
       " 161,\n",
       " 174,\n",
       " 143,\n",
       " 720,\n",
       " 329,\n",
       " 553,\n",
       " 913,\n",
       " 67,\n",
       " 248,\n",
       " 752,\n",
       " 984,\n",
       " 449,\n",
       " 197,\n",
       " 153,\n",
       " 180,\n",
       " 167,\n",
       " 430,\n",
       " 428,\n",
       " 1311,\n",
       " 648,\n",
       " 624,\n",
       " 525,\n",
       " 433,\n",
       " 363,\n",
       " 133,\n",
       " 976,\n",
       " 260,\n",
       " 559,\n",
       " 458,\n",
       " 345,\n",
       " 459,\n",
       " 366,\n",
       " 290,\n",
       " 185,\n",
       " 264,\n",
       " 760,\n",
       " 144,\n",
       " 358,\n",
       " 318,\n",
       " 876,\n",
       " 209,\n",
       " 281,\n",
       " 490,\n",
       " 776,\n",
       " 299,\n",
       " 136,\n",
       " 238,\n",
       " 170,\n",
       " 515,\n",
       " 285,\n",
       " 669,\n",
       " 466,\n",
       " 33,\n",
       " 1115,\n",
       " 212,\n",
       " 265,\n",
       " 309,\n",
       " 1248,\n",
       " 489,\n",
       " 147,\n",
       " 473,\n",
       " 439,\n",
       " 272,\n",
       " 352,\n",
       " 207,\n",
       " 194,\n",
       " 160,\n",
       " 431,\n",
       " 215,\n",
       " 279,\n",
       " 184,\n",
       " 434,\n",
       " 312,\n",
       " 495,\n",
       " 316,\n",
       " 834,\n",
       " 597,\n",
       " 345,\n",
       " 164,\n",
       " 744,\n",
       " 373,\n",
       " 498,\n",
       " 125,\n",
       " 324,\n",
       " 594,\n",
       " 154,\n",
       " 352,\n",
       " 284,\n",
       " 903,\n",
       " 504,\n",
       " 226,\n",
       " 168,\n",
       " 1046,\n",
       " 536,\n",
       " 511,\n",
       " 338,\n",
       " 551,\n",
       " 314,\n",
       " 455,\n",
       " 796,\n",
       " 717,\n",
       " 329,\n",
       " 705,\n",
       " 521,\n",
       " 555,\n",
       " 232,\n",
       " 236,\n",
       " 560,\n",
       " 237,\n",
       " 127,\n",
       " 182,\n",
       " 355,\n",
       " 584,\n",
       " 384,\n",
       " 183,\n",
       " 353,\n",
       " 1035,\n",
       " 4835,\n",
       " 137,\n",
       " 620,\n",
       " 527,\n",
       " 668,\n",
       " 229,\n",
       " 263,\n",
       " 267,\n",
       " 619,\n",
       " 1205,\n",
       " 222,\n",
       " 499,\n",
       " 1169,\n",
       " 392,\n",
       " 121,\n",
       " 126,\n",
       " 307,\n",
       " 413,\n",
       " 293,\n",
       " 520,\n",
       " 260,\n",
       " 517,\n",
       " 560,\n",
       " 446,\n",
       " 217,\n",
       " 191,\n",
       " 362,\n",
       " 190,\n",
       " 107,\n",
       " 980,\n",
       " 675,\n",
       " 311,\n",
       " 114,\n",
       " 114,\n",
       " 114,\n",
       " 114,\n",
       " 114,\n",
       " 114,\n",
       " 114,\n",
       " 114,\n",
       " 114,\n",
       " 114,\n",
       " 114,\n",
       " 507,\n",
       " 584,\n",
       " 433,\n",
       " 321,\n",
       " 504,\n",
       " 251,\n",
       " 630,\n",
       " 693,\n",
       " 461,\n",
       " 617,\n",
       " 601,\n",
       " 510,\n",
       " 356,\n",
       " 522,\n",
       " 542,\n",
       " 274,\n",
       " 446,\n",
       " 289,\n",
       " 1905,\n",
       " 750,\n",
       " 588,\n",
       " 268,\n",
       " 356,\n",
       " 391,\n",
       " 87,\n",
       " 962,\n",
       " 257,\n",
       " 453,\n",
       " 792,\n",
       " 263,\n",
       " 203,\n",
       " 330,\n",
       " 537,\n",
       " 1120,\n",
       " 152,\n",
       " 472,\n",
       " 481,\n",
       " 388,\n",
       " 967,\n",
       " 405,\n",
       " 563,\n",
       " 454,\n",
       " 425,\n",
       " 688,\n",
       " 1044,\n",
       " 528,\n",
       " 1152,\n",
       " 2072,\n",
       " 202,\n",
       " 379,\n",
       " 568,\n",
       " 311,\n",
       " 760,\n",
       " 146,\n",
       " 493,\n",
       " 148,\n",
       " 1046,\n",
       " 253,\n",
       " 358,\n",
       " 186,\n",
       " 180,\n",
       " 443,\n",
       " 421,\n",
       " 261,\n",
       " 618,\n",
       " 472,\n",
       " 424,\n",
       " 452,\n",
       " 642,\n",
       " 642,\n",
       " 459,\n",
       " 340,\n",
       " 918,\n",
       " 276,\n",
       " 255,\n",
       " 288,\n",
       " 1868,\n",
       " 617,\n",
       " 792,\n",
       " 314,\n",
       " 60,\n",
       " 426,\n",
       " 125,\n",
       " 234,\n",
       " 364,\n",
       " 250,\n",
       " 399,\n",
       " 526,\n",
       " 164,\n",
       " 268,\n",
       " 239,\n",
       " 208,\n",
       " 365,\n",
       " 437,\n",
       " 126,\n",
       " 257,\n",
       " 205,\n",
       " 565,\n",
       " 96,\n",
       " 96,\n",
       " 96,\n",
       " 430,\n",
       " 335,\n",
       " 269,\n",
       " 213,\n",
       " 279,\n",
       " 292,\n",
       " 96,\n",
       " 96,\n",
       " 96,\n",
       " 96,\n",
       " 96,\n",
       " 96,\n",
       " 96,\n",
       " 96,\n",
       " 96,\n",
       " 96,\n",
       " 96,\n",
       " 96,\n",
       " 96,\n",
       " 96,\n",
       " 96,\n",
       " 96,\n",
       " 96,\n",
       " 96,\n",
       " 96,\n",
       " ...]"
      ]
     },
     "execution_count": 176,
     "metadata": {},
     "output_type": "execute_result"
    }
   ],
   "source": [
    "res"
   ]
  },
  {
   "cell_type": "code",
   "execution_count": null,
   "id": "efbb4e62",
   "metadata": {},
   "outputs": [],
   "source": []
  },
  {
   "cell_type": "code",
   "execution_count": null,
   "id": "896b7faa",
   "metadata": {},
   "outputs": [],
   "source": []
  },
  {
   "cell_type": "code",
   "execution_count": null,
   "id": "a56548fa",
   "metadata": {},
   "outputs": [],
   "source": []
  },
  {
   "cell_type": "code",
   "execution_count": 5,
   "id": "1a738fe9",
   "metadata": {},
   "outputs": [
    {
     "data": {
      "text/plain": [
       "'AAAAKAAALALLGEAPEVVDIWLPAGWRQPFRVFRLERKGDGVLVGMIKDAGDDPDVTHGAEIQAFVRFASEDRLEGGEGVGVVTKPGLGVPVGEPAINPVPRRMIWEAVREVTERPLAVTIAIPGGEELAKKTLNPRLGILGGLSVLGTTGVVKPYSTSAFRMSVVQAVGVARANGLLEIAATTGGKSERFAQRLLPHLPEMAFIEMGDFVGDVLRAARKVGVEVVRVVGMIGKISKMADGKTMTHAAGGEVNLSLLLSLLKEAGASPKALKEAEGAATARRFLEIALEEGLELFFVNLVRLAQEKLQAYIGERPFVSVALTDFDEGRCLAAWPDREVYR'"
      ]
     },
     "execution_count": 5,
     "metadata": {},
     "output_type": "execute_result"
    }
   ],
   "source": [
    "data.iloc[0].protein_sequence"
   ]
  },
  {
   "cell_type": "code",
   "execution_count": 384,
   "id": "a08366c9",
   "metadata": {},
   "outputs": [
    {
     "data": {
      "application/vnd.jupyter.widget-view+json": {
       "model_id": "00588fc9b12643efb8ded3f215f1c4a4",
       "version_major": 2,
       "version_minor": 0
      },
      "text/plain": [
       "  0%|          | 0/21973 [00:00<?, ?it/s]"
      ]
     },
     "metadata": {},
     "output_type": "display_data"
    }
   ],
   "source": [
    "X_train = []\n",
    "for i in tqdm(range(len(train_data))):\n",
    "    res = [0]*20\n",
    "    for x in train_data.iloc[i].protein_sequence:\n",
    "        res[char_dict[x] - 1] += 1\n",
    "    #res.append(train_data.iloc[i].pH)\n",
    "    #res.append(len(train_data.iloc[i].protein_sequence))\n",
    "    res = np.array(res)/ len(train_data.iloc[i].protein_sequence)\n",
    "    X_train.append(res)"
   ]
  },
  {
   "cell_type": "code",
   "execution_count": 385,
   "id": "1b9623dd",
   "metadata": {},
   "outputs": [
    {
     "data": {
      "application/vnd.jupyter.widget-view+json": {
       "model_id": "ddc160fbc3a345d5b0f17b71af0ea9f6",
       "version_major": 2,
       "version_minor": 0
      },
      "text/plain": [
       "  0%|          | 0/9417 [00:00<?, ?it/s]"
      ]
     },
     "metadata": {},
     "output_type": "display_data"
    }
   ],
   "source": [
    "X_test = []\n",
    "for i in tqdm(range(len(test_data))):\n",
    "    res = [0]*20\n",
    "    for x in test_data.iloc[i].protein_sequence:\n",
    "        res[char_dict[x] - 1] += 1\n",
    "    #res.append(test_data.iloc[i].pH)\n",
    "    #res.append(len(test_data.iloc[i].protein_sequence))\n",
    "    res = np.array(res)/ len(test_data.iloc[i].protein_sequence)\n",
    "    X_test.append(res)"
   ]
  },
  {
   "cell_type": "code",
   "execution_count": 410,
   "id": "aea220cf",
   "metadata": {},
   "outputs": [],
   "source": [
    "from sklearn.ensemble import RandomForestRegressor"
   ]
  },
  {
   "cell_type": "code",
   "execution_count": 386,
   "id": "401ce29d",
   "metadata": {},
   "outputs": [],
   "source": [
    "import xgboost as xgb"
   ]
  },
  {
   "cell_type": "code",
   "execution_count": 387,
   "id": "686e9732",
   "metadata": {},
   "outputs": [],
   "source": [
    "X_train, X_test = np.array(X_train), np.array(X_test)\n",
    "y_train, y_test = train_data.tm.values, test_data.tm.values"
   ]
  },
  {
   "cell_type": "code",
   "execution_count": 411,
   "id": "092953e7",
   "metadata": {},
   "outputs": [],
   "source": [
    "model = RandomForestRegressor()"
   ]
  },
  {
   "cell_type": "code",
   "execution_count": 412,
   "id": "7139bacf",
   "metadata": {},
   "outputs": [
    {
     "data": {
      "text/plain": [
       "RandomForestRegressor()"
      ]
     },
     "execution_count": 412,
     "metadata": {},
     "output_type": "execute_result"
    }
   ],
   "source": [
    "model.fit(X_train, y_train)"
   ]
  },
  {
   "cell_type": "code",
   "execution_count": 413,
   "id": "5dc80c42",
   "metadata": {},
   "outputs": [],
   "source": [
    "preds = model.predict(X_train)"
   ]
  },
  {
   "cell_type": "code",
   "execution_count": 414,
   "id": "20157170",
   "metadata": {},
   "outputs": [
    {
     "data": {
      "text/plain": [
       "SpearmanrResult(correlation=0.9113004595537421, pvalue=0.0)"
      ]
     },
     "execution_count": 414,
     "metadata": {},
     "output_type": "execute_result"
    }
   ],
   "source": [
    "scipy.stats.spearmanr(y_train, preds)"
   ]
  },
  {
   "cell_type": "code",
   "execution_count": 421,
   "id": "df40c7a1",
   "metadata": {},
   "outputs": [],
   "source": [
    "preds = model.predict(X_test)"
   ]
  },
  {
   "cell_type": "code",
   "execution_count": 422,
   "id": "9c77943f",
   "metadata": {},
   "outputs": [
    {
     "data": {
      "text/plain": [
       "SpearmanrResult(correlation=0.5633632483756278, pvalue=0.0)"
      ]
     },
     "execution_count": 422,
     "metadata": {},
     "output_type": "execute_result"
    }
   ],
   "source": [
    "scipy.stats.spearmanr(y_test, preds)"
   ]
  },
  {
   "cell_type": "code",
   "execution_count": null,
   "id": "ccba6ab2",
   "metadata": {},
   "outputs": [],
   "source": []
  },
  {
   "cell_type": "code",
   "execution_count": null,
   "id": "2c286647",
   "metadata": {},
   "outputs": [],
   "source": []
  },
  {
   "cell_type": "code",
   "execution_count": 394,
   "id": "b1a675cf",
   "metadata": {},
   "outputs": [
    {
     "data": {
      "application/vnd.jupyter.widget-view+json": {
       "model_id": "28cafc26531e4377a4b476601229f1eb",
       "version_major": 2,
       "version_minor": 0
      },
      "text/plain": [
       "  0%|          | 0/2413 [00:00<?, ?it/s]"
      ]
     },
     "metadata": {},
     "output_type": "display_data"
    }
   ],
   "source": [
    "X_subm = []\n",
    "for i in tqdm(range(len(subm_data))):\n",
    "    res = [0]*20\n",
    "    for x in subm_data.iloc[i].protein_sequence:\n",
    "        res[char_dict[x] - 1] += 1\n",
    "    #res.append(subm_data.iloc[i].pH)\n",
    "    #res.append(len(subm_data.iloc[i].protein_sequence))\n",
    "    res = np.array(res)/ len(subm_data.iloc[i].protein_sequence)\n",
    "    X_subm.append(res)"
   ]
  },
  {
   "cell_type": "code",
   "execution_count": 395,
   "id": "171f083a",
   "metadata": {},
   "outputs": [],
   "source": [
    "X_subm = np.array(X_subm)"
   ]
  },
  {
   "cell_type": "code",
   "execution_count": 417,
   "id": "a9d32def",
   "metadata": {},
   "outputs": [],
   "source": [
    "preds = model.predict(X_subm)"
   ]
  },
  {
   "cell_type": "code",
   "execution_count": 420,
   "id": "41d8e71c",
   "metadata": {},
   "outputs": [
    {
     "data": {
      "text/plain": [
       "array([50.13226667, 50.46726667, 50.13226667, ..., 49.94126667,\n",
       "       49.94126667, 49.94126667])"
      ]
     },
     "execution_count": 420,
     "metadata": {},
     "output_type": "execute_result"
    }
   ],
   "source": [
    "preds"
   ]
  },
  {
   "cell_type": "code",
   "execution_count": null,
   "id": "d12a659f",
   "metadata": {},
   "outputs": [],
   "source": []
  },
  {
   "cell_type": "code",
   "execution_count": null,
   "id": "769b2e3a",
   "metadata": {},
   "outputs": [],
   "source": []
  },
  {
   "cell_type": "code",
   "execution_count": 353,
   "id": "6f46623c",
   "metadata": {},
   "outputs": [],
   "source": [
    "train_data, test_data = train_test_split(data, test_size=0.3)"
   ]
  },
  {
   "cell_type": "code",
   "execution_count": null,
   "id": "db650286",
   "metadata": {},
   "outputs": [],
   "source": []
  },
  {
   "cell_type": "code",
   "execution_count": 142,
   "id": "878fe063",
   "metadata": {},
   "outputs": [
    {
     "name": "stdout",
     "output_type": "stream",
     "text": [
      "{'A': 1, 'C': 2, 'D': 3, 'E': 4, 'F': 5, 'G': 6, 'H': 7, 'I': 8, 'K': 9, 'L': 10, 'M': 11, 'N': 12, 'P': 13, 'Q': 14, 'R': 15, 'S': 16, 'T': 17, 'V': 18, 'W': 19, 'Y': 20}\n",
      "Dict Length: 20\n"
     ]
    }
   ],
   "source": [
    "codes = ['A', 'C', 'D', 'E', 'F', 'G', 'H', 'I', 'K', 'L',\n",
    "         'M', 'N', 'P', 'Q', 'R', 'S', 'T', 'V', 'W', 'Y']\n",
    "\n",
    "def create_dict(codes):\n",
    "    char_dict = {}\n",
    "    for index, val in enumerate(codes):\n",
    "        char_dict[val] = index+1\n",
    "\n",
    "    return char_dict\n",
    "\n",
    "char_dict = create_dict(codes)\n",
    "\n",
    "print(char_dict)\n",
    "print(\"Dict Length:\", len(char_dict))"
   ]
  },
  {
   "cell_type": "code",
   "execution_count": null,
   "id": "15673530",
   "metadata": {},
   "outputs": [],
   "source": []
  },
  {
   "cell_type": "code",
   "execution_count": 143,
   "id": "b31c61b2",
   "metadata": {},
   "outputs": [],
   "source": [
    "def integer_encoding(data):\n",
    "    \"\"\"\n",
    "    - Encodes code sequence to integer values.\n",
    "    - 20 common amino acids are taken into consideration\n",
    "    and rest 4 are categorized as 0.\n",
    "    \"\"\"\n",
    "  \n",
    "    encode_list = []\n",
    "    for row in tqdm(data['protein_sequence'].values):\n",
    "        row_encode = []\n",
    "        for code in row:\n",
    "            row_encode.append(char_dict.get(code, 0))\n",
    "        encode_list.append(np.array(row_encode))\n",
    "\n",
    "    return encode_list"
   ]
  },
  {
   "cell_type": "code",
   "execution_count": 144,
   "id": "e6335e72",
   "metadata": {},
   "outputs": [
    {
     "data": {
      "application/vnd.jupyter.widget-view+json": {
       "model_id": "dd5f63e6cade42b68d919e1050253de3",
       "version_major": 2,
       "version_minor": 0
      },
      "text/plain": [
       "  0%|          | 0/451 [00:00<?, ?it/s]"
      ]
     },
     "metadata": {},
     "output_type": "display_data"
    },
    {
     "data": {
      "application/vnd.jupyter.widget-view+json": {
       "model_id": "059433907afe4de4b5f980ddb403067b",
       "version_major": 2,
       "version_minor": 0
      },
      "text/plain": [
       "  0%|          | 0/51 [00:00<?, ?it/s]"
      ]
     },
     "metadata": {},
     "output_type": "display_data"
    }
   ],
   "source": [
    "train_encode = integer_encoding(train_data) \n",
    "test_encode = integer_encoding(test_data) "
   ]
  },
  {
   "cell_type": "code",
   "execution_count": 145,
   "id": "15b9898c",
   "metadata": {},
   "outputs": [],
   "source": [
    "def pad_sequence(seq, l=336):\n",
    "    res = np.zeros((l))\n",
    "    if seq.shape[0] <= l:\n",
    "        res[:seq.shape[0]] = seq\n",
    "    else:\n",
    "        res[:l] = seq[:l]\n",
    "    return res"
   ]
  },
  {
   "cell_type": "code",
   "execution_count": 146,
   "id": "f6f106fd",
   "metadata": {},
   "outputs": [
    {
     "data": {
      "application/vnd.jupyter.widget-view+json": {
       "model_id": "434e63529b2c43a08a497c747ec1ac2d",
       "version_major": 2,
       "version_minor": 0
      },
      "text/plain": [
       "  0%|          | 0/451 [00:00<?, ?it/s]"
      ]
     },
     "metadata": {},
     "output_type": "display_data"
    },
    {
     "data": {
      "application/vnd.jupyter.widget-view+json": {
       "model_id": "5e78a0ffb8b145dc8506e5649a6876fa",
       "version_major": 2,
       "version_minor": 0
      },
      "text/plain": [
       "  0%|          | 0/51 [00:00<?, ?it/s]"
      ]
     },
     "metadata": {},
     "output_type": "display_data"
    }
   ],
   "source": [
    "for i in tqdm(range(len(train_encode))):\n",
    "    train_encode[i] = pad_sequence(train_encode[i])\n",
    "for i in tqdm(range(len(test_encode))):\n",
    "    test_encode[i] = pad_sequence(test_encode[i])"
   ]
  },
  {
   "cell_type": "code",
   "execution_count": 147,
   "id": "fd4dde47",
   "metadata": {},
   "outputs": [],
   "source": [
    "X_train, X_test = np.array(train_encode), np.array(test_encode)\n",
    "y_train, y_test = train_data.tm.values, test_data.tm.values"
   ]
  },
  {
   "cell_type": "code",
   "execution_count": 148,
   "id": "617cbaed",
   "metadata": {},
   "outputs": [],
   "source": [
    "from sklearn.preprocessing import OneHotEncoder"
   ]
  },
  {
   "cell_type": "code",
   "execution_count": 153,
   "id": "bc5adb0a",
   "metadata": {},
   "outputs": [],
   "source": [
    "enc = OneHotEncoder()"
   ]
  },
  {
   "cell_type": "code",
   "execution_count": 154,
   "id": "21c97711",
   "metadata": {},
   "outputs": [
    {
     "ename": "ValueError",
     "evalue": "Found unknown categories [19.0] in column 3 during transform",
     "output_type": "error",
     "traceback": [
      "\u001b[1;31m---------------------------------------------------------------------------\u001b[0m",
      "\u001b[1;31mValueError\u001b[0m                                Traceback (most recent call last)",
      "Cell \u001b[1;32mIn [154], line 2\u001b[0m\n\u001b[0;32m      1\u001b[0m X_train_one_hot \u001b[38;5;241m=\u001b[39m enc\u001b[38;5;241m.\u001b[39mfit_transform(X_train)\n\u001b[1;32m----> 2\u001b[0m X_test_one_hot \u001b[38;5;241m=\u001b[39m \u001b[43menc\u001b[49m\u001b[38;5;241;43m.\u001b[39;49m\u001b[43mtransform\u001b[49m\u001b[43m(\u001b[49m\u001b[43mX_test\u001b[49m\u001b[43m)\u001b[49m\n",
      "File \u001b[1;32m~\\anaconda3\\lib\\site-packages\\sklearn\\preprocessing\\_encoders.py:509\u001b[0m, in \u001b[0;36mOneHotEncoder.transform\u001b[1;34m(self, X)\u001b[0m\n\u001b[0;32m    507\u001b[0m \u001b[38;5;66;03m# validation of X happens in _check_X called by _transform\u001b[39;00m\n\u001b[0;32m    508\u001b[0m warn_on_unknown \u001b[38;5;241m=\u001b[39m \u001b[38;5;28mself\u001b[39m\u001b[38;5;241m.\u001b[39mhandle_unknown \u001b[38;5;241m==\u001b[39m \u001b[38;5;124m\"\u001b[39m\u001b[38;5;124mignore\u001b[39m\u001b[38;5;124m\"\u001b[39m \u001b[38;5;129;01mand\u001b[39;00m \u001b[38;5;28mself\u001b[39m\u001b[38;5;241m.\u001b[39mdrop \u001b[38;5;129;01mis\u001b[39;00m \u001b[38;5;129;01mnot\u001b[39;00m \u001b[38;5;28;01mNone\u001b[39;00m\n\u001b[1;32m--> 509\u001b[0m X_int, X_mask \u001b[38;5;241m=\u001b[39m \u001b[38;5;28;43mself\u001b[39;49m\u001b[38;5;241;43m.\u001b[39;49m\u001b[43m_transform\u001b[49m\u001b[43m(\u001b[49m\n\u001b[0;32m    510\u001b[0m \u001b[43m    \u001b[49m\u001b[43mX\u001b[49m\u001b[43m,\u001b[49m\n\u001b[0;32m    511\u001b[0m \u001b[43m    \u001b[49m\u001b[43mhandle_unknown\u001b[49m\u001b[38;5;241;43m=\u001b[39;49m\u001b[38;5;28;43mself\u001b[39;49m\u001b[38;5;241;43m.\u001b[39;49m\u001b[43mhandle_unknown\u001b[49m\u001b[43m,\u001b[49m\n\u001b[0;32m    512\u001b[0m \u001b[43m    \u001b[49m\u001b[43mforce_all_finite\u001b[49m\u001b[38;5;241;43m=\u001b[39;49m\u001b[38;5;124;43m\"\u001b[39;49m\u001b[38;5;124;43mallow-nan\u001b[39;49m\u001b[38;5;124;43m\"\u001b[39;49m\u001b[43m,\u001b[49m\n\u001b[0;32m    513\u001b[0m \u001b[43m    \u001b[49m\u001b[43mwarn_on_unknown\u001b[49m\u001b[38;5;241;43m=\u001b[39;49m\u001b[43mwarn_on_unknown\u001b[49m\u001b[43m,\u001b[49m\n\u001b[0;32m    514\u001b[0m \u001b[43m\u001b[49m\u001b[43m)\u001b[49m\n\u001b[0;32m    516\u001b[0m n_samples, n_features \u001b[38;5;241m=\u001b[39m X_int\u001b[38;5;241m.\u001b[39mshape\n\u001b[0;32m    518\u001b[0m \u001b[38;5;28;01mif\u001b[39;00m \u001b[38;5;28mself\u001b[39m\u001b[38;5;241m.\u001b[39mdrop_idx_ \u001b[38;5;129;01mis\u001b[39;00m \u001b[38;5;129;01mnot\u001b[39;00m \u001b[38;5;28;01mNone\u001b[39;00m:\n",
      "File \u001b[1;32m~\\anaconda3\\lib\\site-packages\\sklearn\\preprocessing\\_encoders.py:142\u001b[0m, in \u001b[0;36m_BaseEncoder._transform\u001b[1;34m(self, X, handle_unknown, force_all_finite, warn_on_unknown)\u001b[0m\n\u001b[0;32m    137\u001b[0m \u001b[38;5;28;01mif\u001b[39;00m handle_unknown \u001b[38;5;241m==\u001b[39m \u001b[38;5;124m\"\u001b[39m\u001b[38;5;124merror\u001b[39m\u001b[38;5;124m\"\u001b[39m:\n\u001b[0;32m    138\u001b[0m     msg \u001b[38;5;241m=\u001b[39m (\n\u001b[0;32m    139\u001b[0m         \u001b[38;5;124m\"\u001b[39m\u001b[38;5;124mFound unknown categories \u001b[39m\u001b[38;5;132;01m{0}\u001b[39;00m\u001b[38;5;124m in column \u001b[39m\u001b[38;5;132;01m{1}\u001b[39;00m\u001b[38;5;124m\"\u001b[39m\n\u001b[0;32m    140\u001b[0m         \u001b[38;5;124m\"\u001b[39m\u001b[38;5;124m during transform\u001b[39m\u001b[38;5;124m\"\u001b[39m\u001b[38;5;241m.\u001b[39mformat(diff, i)\n\u001b[0;32m    141\u001b[0m     )\n\u001b[1;32m--> 142\u001b[0m     \u001b[38;5;28;01mraise\u001b[39;00m \u001b[38;5;167;01mValueError\u001b[39;00m(msg)\n\u001b[0;32m    143\u001b[0m \u001b[38;5;28;01melse\u001b[39;00m:\n\u001b[0;32m    144\u001b[0m     \u001b[38;5;28;01mif\u001b[39;00m warn_on_unknown:\n",
      "\u001b[1;31mValueError\u001b[0m: Found unknown categories [19.0] in column 3 during transform"
     ]
    }
   ],
   "source": [
    "X_train_one_hot = enc.fit_transform(X_train)\n",
    "X_test_one_hot = enc.transform(X_test)"
   ]
  },
  {
   "cell_type": "code",
   "execution_count": null,
   "id": "0629d425",
   "metadata": {},
   "outputs": [],
   "source": []
  },
  {
   "cell_type": "code",
   "execution_count": 155,
   "id": "b4742a90",
   "metadata": {},
   "outputs": [],
   "source": [
    "import xgboost as xgb"
   ]
  },
  {
   "cell_type": "code",
   "execution_count": 156,
   "id": "70c96f94",
   "metadata": {},
   "outputs": [],
   "source": [
    "model = xgb.XGBRegressor(n_jobs=4)"
   ]
  },
  {
   "cell_type": "code",
   "execution_count": 157,
   "id": "f61359f8",
   "metadata": {},
   "outputs": [
    {
     "data": {
      "text/plain": [
       "XGBRegressor(base_score=0.5, booster='gbtree', callbacks=None,\n",
       "             colsample_bylevel=1, colsample_bynode=1, colsample_bytree=1,\n",
       "             early_stopping_rounds=None, enable_categorical=False,\n",
       "             eval_metric=None, gamma=0, gpu_id=-1, grow_policy='depthwise',\n",
       "             importance_type=None, interaction_constraints='',\n",
       "             learning_rate=0.300000012, max_bin=256, max_cat_to_onehot=4,\n",
       "             max_delta_step=0, max_depth=6, max_leaves=0, min_child_weight=1,\n",
       "             missing=nan, monotone_constraints='()', n_estimators=100, n_jobs=4,\n",
       "             num_parallel_tree=1, predictor='auto', random_state=0, reg_alpha=0,\n",
       "             reg_lambda=1, ...)"
      ]
     },
     "execution_count": 157,
     "metadata": {},
     "output_type": "execute_result"
    }
   ],
   "source": [
    "model.fit(X_train_one_hot, y_train)"
   ]
  },
  {
   "cell_type": "code",
   "execution_count": 158,
   "id": "431b3ba8",
   "metadata": {},
   "outputs": [],
   "source": [
    "y_train_pred = model.predict(X_train_one_hot)\n",
    "y_test_pred = model.predict(X_test_one_hot)"
   ]
  },
  {
   "cell_type": "code",
   "execution_count": 159,
   "id": "366aebdd",
   "metadata": {},
   "outputs": [],
   "source": [
    "from sklearn.metrics import mean_squared_error"
   ]
  },
  {
   "cell_type": "code",
   "execution_count": 160,
   "id": "d5ceb5b6",
   "metadata": {},
   "outputs": [
    {
     "data": {
      "text/plain": [
       "101.32605786504966"
      ]
     },
     "execution_count": 160,
     "metadata": {},
     "output_type": "execute_result"
    }
   ],
   "source": [
    "mean_squared_error(y_train, y_train_pred)"
   ]
  },
  {
   "cell_type": "code",
   "execution_count": 161,
   "id": "12513e11",
   "metadata": {},
   "outputs": [
    {
     "data": {
      "text/plain": [
       "458.7289708192821"
      ]
     },
     "execution_count": 161,
     "metadata": {},
     "output_type": "execute_result"
    }
   ],
   "source": [
    "mean_squared_error(y_test, y_test_pred)"
   ]
  },
  {
   "cell_type": "code",
   "execution_count": 162,
   "id": "0b44ca46",
   "metadata": {},
   "outputs": [],
   "source": [
    "import scipy.stats"
   ]
  },
  {
   "cell_type": "code",
   "execution_count": 163,
   "id": "ffc00f5a",
   "metadata": {},
   "outputs": [
    {
     "data": {
      "text/plain": [
       "SpearmanrResult(correlation=0.7564296934278296, pvalue=8.182054889292644e-85)"
      ]
     },
     "execution_count": 163,
     "metadata": {},
     "output_type": "execute_result"
    }
   ],
   "source": [
    "scipy.stats.spearmanr(y_train, y_train_pred)"
   ]
  },
  {
   "cell_type": "code",
   "execution_count": 164,
   "id": "35277218",
   "metadata": {},
   "outputs": [
    {
     "data": {
      "text/plain": [
       "SpearmanrResult(correlation=0.12150861642080837, pvalue=0.39566640480484316)"
      ]
     },
     "execution_count": 164,
     "metadata": {},
     "output_type": "execute_result"
    }
   ],
   "source": [
    "scipy.stats.spearmanr(y_test, y_test_pred)"
   ]
  },
  {
   "cell_type": "code",
   "execution_count": null,
   "id": "fb6dc24f",
   "metadata": {},
   "outputs": [],
   "source": []
  },
  {
   "cell_type": "code",
   "execution_count": 343,
   "id": "a89e235e",
   "metadata": {},
   "outputs": [],
   "source": [
    "subm_data = pd.read_csv('test.csv')"
   ]
  },
  {
   "cell_type": "code",
   "execution_count": 344,
   "id": "f9d370eb",
   "metadata": {},
   "outputs": [
    {
     "data": {
      "text/html": [
       "<div>\n",
       "<style scoped>\n",
       "    .dataframe tbody tr th:only-of-type {\n",
       "        vertical-align: middle;\n",
       "    }\n",
       "\n",
       "    .dataframe tbody tr th {\n",
       "        vertical-align: top;\n",
       "    }\n",
       "\n",
       "    .dataframe thead th {\n",
       "        text-align: right;\n",
       "    }\n",
       "</style>\n",
       "<table border=\"1\" class=\"dataframe\">\n",
       "  <thead>\n",
       "    <tr style=\"text-align: right;\">\n",
       "      <th></th>\n",
       "      <th>seq_id</th>\n",
       "      <th>protein_sequence</th>\n",
       "      <th>pH</th>\n",
       "      <th>data_source</th>\n",
       "    </tr>\n",
       "  </thead>\n",
       "  <tbody>\n",
       "    <tr>\n",
       "      <th>0</th>\n",
       "      <td>31390</td>\n",
       "      <td>VPVNPEPDATSVENVAEKTGSGDSQSDPIKADLEVKGQSALPFDVD...</td>\n",
       "      <td>8</td>\n",
       "      <td>Novozymes</td>\n",
       "    </tr>\n",
       "    <tr>\n",
       "      <th>1</th>\n",
       "      <td>31391</td>\n",
       "      <td>VPVNPEPDATSVENVAKKTGSGDSQSDPIKADLEVKGQSALPFDVD...</td>\n",
       "      <td>8</td>\n",
       "      <td>Novozymes</td>\n",
       "    </tr>\n",
       "    <tr>\n",
       "      <th>2</th>\n",
       "      <td>31392</td>\n",
       "      <td>VPVNPEPDATSVENVAKTGSGDSQSDPIKADLEVKGQSALPFDVDC...</td>\n",
       "      <td>8</td>\n",
       "      <td>Novozymes</td>\n",
       "    </tr>\n",
       "    <tr>\n",
       "      <th>3</th>\n",
       "      <td>31393</td>\n",
       "      <td>VPVNPEPDATSVENVALCTGSGDSQSDPIKADLEVKGQSALPFDVD...</td>\n",
       "      <td>8</td>\n",
       "      <td>Novozymes</td>\n",
       "    </tr>\n",
       "    <tr>\n",
       "      <th>4</th>\n",
       "      <td>31394</td>\n",
       "      <td>VPVNPEPDATSVENVALFTGSGDSQSDPIKADLEVKGQSALPFDVD...</td>\n",
       "      <td>8</td>\n",
       "      <td>Novozymes</td>\n",
       "    </tr>\n",
       "    <tr>\n",
       "      <th>...</th>\n",
       "      <td>...</td>\n",
       "      <td>...</td>\n",
       "      <td>...</td>\n",
       "      <td>...</td>\n",
       "    </tr>\n",
       "    <tr>\n",
       "      <th>2408</th>\n",
       "      <td>33798</td>\n",
       "      <td>VPVNPEPDATSVENVILKTGSGDSQSDPIKADLEVKGQSALPFDVD...</td>\n",
       "      <td>8</td>\n",
       "      <td>Novozymes</td>\n",
       "    </tr>\n",
       "    <tr>\n",
       "      <th>2409</th>\n",
       "      <td>33799</td>\n",
       "      <td>VPVNPEPDATSVENVLLKTGSGDSQSDPIKADLEVKGQSALPFDVD...</td>\n",
       "      <td>8</td>\n",
       "      <td>Novozymes</td>\n",
       "    </tr>\n",
       "    <tr>\n",
       "      <th>2410</th>\n",
       "      <td>33800</td>\n",
       "      <td>VPVNPEPDATSVENVNLKTGSGDSQSDPIKADLEVKGQSALPFDVD...</td>\n",
       "      <td>8</td>\n",
       "      <td>Novozymes</td>\n",
       "    </tr>\n",
       "    <tr>\n",
       "      <th>2411</th>\n",
       "      <td>33801</td>\n",
       "      <td>VPVNPEPDATSVENVPLKTGSGDSQSDPIKADLEVKGQSALPFDVD...</td>\n",
       "      <td>8</td>\n",
       "      <td>Novozymes</td>\n",
       "    </tr>\n",
       "    <tr>\n",
       "      <th>2412</th>\n",
       "      <td>33802</td>\n",
       "      <td>VPVNPEPDATSVENVWLKTGSGDSQSDPIKADLEVKGQSALPFDVD...</td>\n",
       "      <td>8</td>\n",
       "      <td>Novozymes</td>\n",
       "    </tr>\n",
       "  </tbody>\n",
       "</table>\n",
       "<p>2413 rows × 4 columns</p>\n",
       "</div>"
      ],
      "text/plain": [
       "      seq_id                                   protein_sequence  pH  \\\n",
       "0      31390  VPVNPEPDATSVENVAEKTGSGDSQSDPIKADLEVKGQSALPFDVD...   8   \n",
       "1      31391  VPVNPEPDATSVENVAKKTGSGDSQSDPIKADLEVKGQSALPFDVD...   8   \n",
       "2      31392  VPVNPEPDATSVENVAKTGSGDSQSDPIKADLEVKGQSALPFDVDC...   8   \n",
       "3      31393  VPVNPEPDATSVENVALCTGSGDSQSDPIKADLEVKGQSALPFDVD...   8   \n",
       "4      31394  VPVNPEPDATSVENVALFTGSGDSQSDPIKADLEVKGQSALPFDVD...   8   \n",
       "...      ...                                                ...  ..   \n",
       "2408   33798  VPVNPEPDATSVENVILKTGSGDSQSDPIKADLEVKGQSALPFDVD...   8   \n",
       "2409   33799  VPVNPEPDATSVENVLLKTGSGDSQSDPIKADLEVKGQSALPFDVD...   8   \n",
       "2410   33800  VPVNPEPDATSVENVNLKTGSGDSQSDPIKADLEVKGQSALPFDVD...   8   \n",
       "2411   33801  VPVNPEPDATSVENVPLKTGSGDSQSDPIKADLEVKGQSALPFDVD...   8   \n",
       "2412   33802  VPVNPEPDATSVENVWLKTGSGDSQSDPIKADLEVKGQSALPFDVD...   8   \n",
       "\n",
       "     data_source  \n",
       "0      Novozymes  \n",
       "1      Novozymes  \n",
       "2      Novozymes  \n",
       "3      Novozymes  \n",
       "4      Novozymes  \n",
       "...          ...  \n",
       "2408   Novozymes  \n",
       "2409   Novozymes  \n",
       "2410   Novozymes  \n",
       "2411   Novozymes  \n",
       "2412   Novozymes  \n",
       "\n",
       "[2413 rows x 4 columns]"
      ]
     },
     "execution_count": 344,
     "metadata": {},
     "output_type": "execute_result"
    }
   ],
   "source": [
    "subm_data"
   ]
  },
  {
   "cell_type": "code",
   "execution_count": 345,
   "id": "f8c9d93b",
   "metadata": {},
   "outputs": [],
   "source": [
    "res = []\n",
    "for i in range(len(subm_data)):\n",
    "    res.append(len(subm_data.iloc[i, 1]))"
   ]
  },
  {
   "cell_type": "code",
   "execution_count": 350,
   "id": "df4f3630",
   "metadata": {},
   "outputs": [],
   "source": [
    "unique, counts = np.unique(res, return_counts=True)"
   ]
  },
  {
   "cell_type": "code",
   "execution_count": 351,
   "id": "18c991ae",
   "metadata": {},
   "outputs": [
    {
     "data": {
      "text/plain": [
       "array([220, 221])"
      ]
     },
     "execution_count": 351,
     "metadata": {},
     "output_type": "execute_result"
    }
   ],
   "source": [
    "unique"
   ]
  },
  {
   "cell_type": "code",
   "execution_count": 352,
   "id": "f1b44b6f",
   "metadata": {},
   "outputs": [
    {
     "data": {
      "text/plain": [
       "array([  77, 2336], dtype=int64)"
      ]
     },
     "execution_count": 352,
     "metadata": {},
     "output_type": "execute_result"
    }
   ],
   "source": [
    "counts"
   ]
  },
  {
   "cell_type": "code",
   "execution_count": null,
   "id": "99a32010",
   "metadata": {},
   "outputs": [],
   "source": []
  },
  {
   "cell_type": "code",
   "execution_count": 167,
   "id": "062c5bfb",
   "metadata": {},
   "outputs": [
    {
     "data": {
      "application/vnd.jupyter.widget-view+json": {
       "model_id": "6756a5e03ddb49f7bbc4b57b56764fd8",
       "version_major": 2,
       "version_minor": 0
      },
      "text/plain": [
       "  0%|          | 0/2413 [00:00<?, ?it/s]"
      ]
     },
     "metadata": {},
     "output_type": "display_data"
    }
   ],
   "source": [
    "X_subm = integer_encoding(subm_data)"
   ]
  },
  {
   "cell_type": "code",
   "execution_count": 168,
   "id": "2be1e349",
   "metadata": {},
   "outputs": [
    {
     "data": {
      "application/vnd.jupyter.widget-view+json": {
       "model_id": "b6dda940d5824460969d144c320f57aa",
       "version_major": 2,
       "version_minor": 0
      },
      "text/plain": [
       "  0%|          | 0/2413 [00:00<?, ?it/s]"
      ]
     },
     "metadata": {},
     "output_type": "display_data"
    }
   ],
   "source": [
    "for i in tqdm(range(len(X_subm))):\n",
    "    X_subm[i] = pad_sequence(X_subm[i])"
   ]
  },
  {
   "cell_type": "code",
   "execution_count": 169,
   "id": "25e69dfd",
   "metadata": {},
   "outputs": [],
   "source": [
    "X_subm = np.array(X_subm)"
   ]
  },
  {
   "cell_type": "code",
   "execution_count": 68,
   "id": "87d2fa4a",
   "metadata": {},
   "outputs": [],
   "source": [
    "X_subm_one_hot = enc.transform(X_subm)"
   ]
  },
  {
   "cell_type": "code",
   "execution_count": 170,
   "id": "7b3c3ad4",
   "metadata": {},
   "outputs": [],
   "source": [
    "preds = model.predict(X_subm_one_hot)"
   ]
  },
  {
   "cell_type": "code",
   "execution_count": 289,
   "id": "6927dd35",
   "metadata": {},
   "outputs": [],
   "source": [
    "res = pd.DataFrame()"
   ]
  },
  {
   "cell_type": "code",
   "execution_count": 290,
   "id": "70086d6c",
   "metadata": {},
   "outputs": [],
   "source": [
    "res['seq_id'] = subm_data.seq_id.values\n",
    "res['tm'] = preds"
   ]
  },
  {
   "cell_type": "code",
   "execution_count": 291,
   "id": "e3c8a41f",
   "metadata": {},
   "outputs": [
    {
     "data": {
      "text/html": [
       "<div>\n",
       "<style scoped>\n",
       "    .dataframe tbody tr th:only-of-type {\n",
       "        vertical-align: middle;\n",
       "    }\n",
       "\n",
       "    .dataframe tbody tr th {\n",
       "        vertical-align: top;\n",
       "    }\n",
       "\n",
       "    .dataframe thead th {\n",
       "        text-align: right;\n",
       "    }\n",
       "</style>\n",
       "<table border=\"1\" class=\"dataframe\">\n",
       "  <thead>\n",
       "    <tr style=\"text-align: right;\">\n",
       "      <th></th>\n",
       "      <th>seq_id</th>\n",
       "      <th>tm</th>\n",
       "    </tr>\n",
       "  </thead>\n",
       "  <tbody>\n",
       "    <tr>\n",
       "      <th>0</th>\n",
       "      <td>31390</td>\n",
       "      <td>40.223530</td>\n",
       "    </tr>\n",
       "    <tr>\n",
       "      <th>1</th>\n",
       "      <td>31391</td>\n",
       "      <td>40.451073</td>\n",
       "    </tr>\n",
       "    <tr>\n",
       "      <th>2</th>\n",
       "      <td>31392</td>\n",
       "      <td>40.223530</td>\n",
       "    </tr>\n",
       "    <tr>\n",
       "      <th>3</th>\n",
       "      <td>31393</td>\n",
       "      <td>46.884827</td>\n",
       "    </tr>\n",
       "    <tr>\n",
       "      <th>4</th>\n",
       "      <td>31394</td>\n",
       "      <td>44.742954</td>\n",
       "    </tr>\n",
       "    <tr>\n",
       "      <th>...</th>\n",
       "      <td>...</td>\n",
       "      <td>...</td>\n",
       "    </tr>\n",
       "    <tr>\n",
       "      <th>2408</th>\n",
       "      <td>33798</td>\n",
       "      <td>40.896793</td>\n",
       "    </tr>\n",
       "    <tr>\n",
       "      <th>2409</th>\n",
       "      <td>33799</td>\n",
       "      <td>42.148048</td>\n",
       "    </tr>\n",
       "    <tr>\n",
       "      <th>2410</th>\n",
       "      <td>33800</td>\n",
       "      <td>40.896793</td>\n",
       "    </tr>\n",
       "    <tr>\n",
       "      <th>2411</th>\n",
       "      <td>33801</td>\n",
       "      <td>40.192673</td>\n",
       "    </tr>\n",
       "    <tr>\n",
       "      <th>2412</th>\n",
       "      <td>33802</td>\n",
       "      <td>37.405926</td>\n",
       "    </tr>\n",
       "  </tbody>\n",
       "</table>\n",
       "<p>2413 rows × 2 columns</p>\n",
       "</div>"
      ],
      "text/plain": [
       "      seq_id         tm\n",
       "0      31390  40.223530\n",
       "1      31391  40.451073\n",
       "2      31392  40.223530\n",
       "3      31393  46.884827\n",
       "4      31394  44.742954\n",
       "...      ...        ...\n",
       "2408   33798  40.896793\n",
       "2409   33799  42.148048\n",
       "2410   33800  40.896793\n",
       "2411   33801  40.192673\n",
       "2412   33802  37.405926\n",
       "\n",
       "[2413 rows x 2 columns]"
      ]
     },
     "execution_count": 291,
     "metadata": {},
     "output_type": "execute_result"
    }
   ],
   "source": [
    "res"
   ]
  },
  {
   "cell_type": "code",
   "execution_count": 292,
   "id": "24028fb8",
   "metadata": {},
   "outputs": [],
   "source": [
    "res.to_csv('submission.csv', index=False)"
   ]
  },
  {
   "cell_type": "code",
   "execution_count": null,
   "id": "f6a2c1cd",
   "metadata": {},
   "outputs": [],
   "source": []
  },
  {
   "cell_type": "code",
   "execution_count": 83,
   "id": "ffc55e37",
   "metadata": {},
   "outputs": [],
   "source": [
    "unique, counts = np.unique(subm_data.pH.values, return_counts=True)"
   ]
  },
  {
   "cell_type": "code",
   "execution_count": 86,
   "id": "0055796f",
   "metadata": {},
   "outputs": [
    {
     "data": {
      "text/plain": [
       "array([8], dtype=int64)"
      ]
     },
     "execution_count": 86,
     "metadata": {},
     "output_type": "execute_result"
    }
   ],
   "source": [
    "unique"
   ]
  },
  {
   "cell_type": "code",
   "execution_count": 85,
   "id": "48e17784",
   "metadata": {},
   "outputs": [
    {
     "data": {
      "text/plain": [
       "array([2413], dtype=int64)"
      ]
     },
     "execution_count": 85,
     "metadata": {},
     "output_type": "execute_result"
    }
   ],
   "source": [
    "counts"
   ]
  },
  {
   "cell_type": "code",
   "execution_count": null,
   "id": "7db69a2a",
   "metadata": {},
   "outputs": [],
   "source": []
  }
 ],
 "metadata": {
  "kernelspec": {
   "display_name": "Python 3 (ipykernel)",
   "language": "python",
   "name": "python3"
  },
  "language_info": {
   "codemirror_mode": {
    "name": "ipython",
    "version": 3
   },
   "file_extension": ".py",
   "mimetype": "text/x-python",
   "name": "python",
   "nbconvert_exporter": "python",
   "pygments_lexer": "ipython3",
   "version": "3.9.12"
  }
 },
 "nbformat": 4,
 "nbformat_minor": 5
}
